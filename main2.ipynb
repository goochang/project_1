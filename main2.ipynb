{
 "cells": [
  {
   "cell_type": "code",
   "execution_count": 5,
   "metadata": {},
   "outputs": [
    {
     "data": {
      "text/plain": [
       "True"
      ]
     },
     "execution_count": 5,
     "metadata": {},
     "output_type": "execute_result"
    }
   ],
   "source": [
    "from langchain.document_loaders import PyPDFLoader\n",
    "from langchain_openai import OpenAIEmbeddings\n",
    "from langchain.vectorstores import Chroma\n",
    "from langchain_openai import ChatOpenAI\n",
    "from langchain.prompts import ChatPromptTemplate\n",
    "from langchain.schema.output_parser import StrOutputParser\n",
    "from langchain.schema.runnable import RunnablePassthrough\n",
    "from langchain_core.runnables import RunnableParallel\n",
    "from langchain.text_splitter import RecursiveCharacterTextSplitter\n",
    "\n",
    "from langchain import hub\n",
    "\n",
    "from datetime import datetime\n",
    "\n",
    "from dotenv import load_dotenv\n",
    "import os\n",
    "import math\n",
    "load_dotenv()\n"
   ]
  },
  {
   "cell_type": "code",
   "execution_count": 6,
   "metadata": {},
   "outputs": [
    {
     "name": "stderr",
     "output_type": "stream",
     "text": [
      "d:\\sparta\\sparta\\solo_project\\pr-uncommon-recreation-3\\.conda\\Lib\\site-packages\\langsmith\\client.py:241: LangSmithMissingAPIKeyWarning: API key must be provided when using hosted LangSmith API\n",
      "  warnings.warn(\n"
     ]
    }
   ],
   "source": [
    "# 모델 초기화\n",
    "chat_model = ChatOpenAI(\n",
    "    api_key=os.environ.get(\"OPENAI_API_KEY\"),\n",
    "    model_name=\"gpt-3.5-turbo-1106\", temperature=0.25)\n",
    "\n",
    "# PDF 파일 로드. 파일의 경로 입력\n",
    "loader = PyPDFLoader(\"resource/ai_trand.pdf\")\n",
    "\n",
    "# 불러온 PDF 파일의 내용 분할을 위한 splitter\n",
    "text_splitter = RecursiveCharacterTextSplitter(chunk_size=2048, chunk_overlap=256)\n",
    "\n",
    "# 페이지 별 문서 로드\n",
    "docs = loader.load()\n",
    "splits = text_splitter.split_documents(docs)\n",
    "vectorstore = Chroma.from_documents(documents=splits, embedding=OpenAIEmbeddings())\n",
    "\n",
    "# 벡터스토어를 효율적인 검색을 위해 retriever로 변환\n",
    "retriever = vectorstore.as_retriever()\n",
    "# Hub로 부터 Prompt 받아오기\n",
    "prompt = hub.pull(\"rlm/rag-prompt\")"
   ]
  },
  {
   "cell_type": "code",
   "execution_count": null,
   "metadata": {},
   "outputs": [],
   "source": [
    "# 문서 포맷팅을 위함 함수 2개의 줄바꿈을 삽입해 문자열로 결합\n",
    "def format_docs(docs):\n",
    "    return \"\\n\\n\".join(doc.page_content for doc in docs)\n",
    "\n",
    "# RAG 체인 정의\n",
    "rag_chain = (\n",
    "    {\"context\": retriever | format_docs, \"question\": RunnablePassthrough()}\n",
    "    | prompt\n",
    "    | chat_model\n",
    "    | StrOutputParser()\n",
    ")\n",
    "# 질문에 대한 대답을 한줄씩 나눠서 저장시키기 위한 함수 정의\n",
    "def split_long_text(text, line_length=80):\n",
    "    return [text[i:i+line_length] for i in range(0, len(text), line_length)]\n",
    "\n",
    "now_dir = os.getcwd()"
   ]
  },
  {
   "cell_type": "code",
   "execution_count": null,
   "metadata": {},
   "outputs": [],
   "source": [
    "\n",
    "\n",
    "# prompt 폴더가 있는지 확인\n",
    "if os.path.isdir(now_dir + \"\\Prompts\"):\n",
    "    # prompt 폴더에 파일이 있는지 확인\n",
    "    prompt_file = os.listdir(now_dir + \"\\Prompts\")\n",
    "    if len(prompt_file) == 0:\n",
    "        print(\"Prompt폴더에 프롬프트 txt파일을 생성해주세요\")\n",
    "        \n",
    "    for file in prompt_file:\n",
    "        filename_split = os.path.splitext(now_dir+\"\\Prompts\\\\\" + file)\n",
    "        if filename_split[1] == \".txt\":\n",
    "            # prompt 내용 읽기\n",
    "            f = open(now_dir+\"\\Prompts\\\\\" + file, 'r', encoding='UTF8') \n",
    "            lines = f.readlines()\n",
    "            # RAG 체인 실행\n",
    "            response = rag_chain.invoke(lines[0])\n",
    "            \n",
    "            file_split = os.path.basename(file).split(\".\")\n",
    "            now = datetime.now()\n",
    "            \n",
    "            # 실행에 대한 결과 파일 경로\n",
    "            file_dir = now_dir + \"\\Result\\\\\"\n",
    "            file_name = file_split[0] + \"_result_\" + str(math.floor(now.timestamp())) + filename_split[1]\n",
    "            w = open(file_dir + file_name, 'w', encoding='UTF8') \n",
    "            for line in split_long_text(response, line_length=80):            \n",
    "                w.write(line + '\\n')\n",
    "            w.close()\n",
    "else:\n",
    "    print(\"Prompt폴더를 생성해서 프롬프트 txt파일을 생성해주세요\")\n",
    "\n",
    "while True: \n",
    "    print(\"========================\")\n",
    "    query = input(\"질문을 입력하세요: \")\n",
    "    if query == \"quit\":\n",
    "        break\n",
    "\n",
    "    response = rag_chain_debug.invoke(query)\n",
    "    print(\"Final Response:\")\n",
    "    print(response.content)"
   ]
  },
  {
   "cell_type": "code",
   "execution_count": null,
   "metadata": {},
   "outputs": [],
   "source": []
  }
 ],
 "metadata": {
  "kernelspec": {
   "display_name": "Python 3",
   "language": "python",
   "name": "python3"
  },
  "language_info": {
   "codemirror_mode": {
    "name": "ipython",
    "version": 3
   },
   "file_extension": ".py",
   "mimetype": "text/x-python",
   "name": "python",
   "nbconvert_exporter": "python",
   "pygments_lexer": "ipython3",
   "version": "3.11.10"
  }
 },
 "nbformat": 4,
 "nbformat_minor": 2
}
